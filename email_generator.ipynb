{
 "cells": [
  {
   "cell_type": "code",
   "execution_count": 1,
   "id": "0eccd20e",
   "metadata": {},
   "outputs": [],
   "source": [
    "from langchain_groq import ChatGroq"
   ]
  },
  {
   "cell_type": "code",
   "execution_count": 2,
   "id": "c16ff50e",
   "metadata": {},
   "outputs": [
    {
     "name": "stdout",
     "output_type": "stream",
     "text": [
      "That's an easy one!\n",
      "\n",
      "The first person to set foot on the moon was Neil Armstrong. He stepped out of the lunar module Eagle and onto the moon's surface on July 20, 1969, during the Apollo 11 mission. Armstrong famously declared, \"That's one small step for man, one giant leap for mankind,\" as he became the first human to walk on the moon.\n"
     ]
    }
   ],
   "source": [
    "llm = ChatGroq(\n",
    "    temperature=0, \n",
    "    groq_api_key='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', \n",
    "    model_name=\"llama3-70b-8192\"\n",
    ")\n",
    "response = llm.invoke(\"The first person to land on moon was ...\")\n",
    "print(response.content)"
   ]
  },
  {
   "cell_type": "code",
   "execution_count": 50,
   "id": "90d33612",
   "metadata": {},
   "outputs": [
    {
     "name": "stdout",
     "output_type": "stream",
     "text": [
      "Front-End Engineer for TechstackJobsAbout usReviewsContact usEnUaEnUaJobsAbout usReviewsContact usWorldwide websiteJobs / Front-End EngineerApply nowProductTeamCultureResponsibilitiesRequirementsBenefitsCandidate PathCompanyRemote allowedFront-End EngineerShare:About the productIntroThe mission of our client is to accelerate the adoption of renewable energy across Europe by combining technology, innovation, and deep energy market expertise. The goal is to enable a more efficient, transparent, and scalable energy transition.Achieving this requires building intelligent platforms that connect key stakeholders across the energy ecosystem, fostering collaboration and delivering strong technical, commercial, and financial synergies to support the shift toward sustainability.Technology stackNext.js, React.jsTypeScriptVercelShadcn UI/Tailwind CSSGitHub (CI/CD)AWS LambdaAWS S3Your teamYou will become a valued member of our development team, joining a group of innovative and passionate professionals dedicated to creating vital business tools. The project is currently in its Discovery phase, meaning you'll have the unique opportunity to be involved from the ground up, working alongside a talented Project Manager, Front-end and Back-end Engineers, a QA Engineer, and a DevOps Engineer.Culture We are committed to implementing high standards in the technology industry, and it is the fundamental principle of our work. To achieve this goal, the company and all its members are constantly evolving. Each of us has the opportunity to contribute to the product, the company, the team, the industry, and our personal development. At Techstack, you have the option to choose from various growth opportunities that align with your interests: - meetups, where you can share your knowledge and develop simultaneously by sharing your experiences within the company and local technical communities; - roles such as a mentor or a technical lead. In any of these roles, you will assist junior professionals and share your knowledge and experiences with them; - participation in our technical Guilds, where you can engage in discussions about technical solutions, approaches, and industry trends.All of these elements contribute to shaping the culture and expertise within both, our team and the company as a whole.Your responsibilitiesDesign, develop, and maintain web user interfaces, ensuring high performance, responsiveness, and accessibility across modern browsers and devices.Collaborate on UI/UX discussions, contributing to thoughtful, scalable, and consistent front-end architecture.Integrate frontend components with backend APIs to deliver seamless and dynamic user experiences.Work with design systems (e.g., Tailwind CSS, Shadcn UI) to build reusable and consistent components.Optimize frontend performance (lazy loading, SSR/SSG in Next.js, code splitting) and monitor key web vitals.Troubleshoot UI-related issues, ensuring smooth interactions and maintaining application security from the frontend side.Actively participate in Agile sprints, code reviews, and cross-functional meetings to iterate and improve frontend features.It's about youHave 4+ years of experience in frontend development.Strong expertise in React.js / Next.js and TypeScript.Have a deep understanding of API integration, OAuth/JWT authentication, and RBAC.\n",
      "Proficient in version control systems (Git) and Agile methodologies.Experienced in working with Shadcn UI / Tailwind CSS.Familiarity with Git, CI/CD pipelines, and Agile methodologies.Hands-on experience with cloud platforms, especially Vercel, and AWS S3/Lambda integrations.Have an upper-intermediate English level or higher.Demonstrate excellent problem-solving skills and a proactive mindset.What we have\n",
      "for youStable and long-term position in an experienced team.Broad opportunities for professional and career growth, including professional challenges that encourage personal development, meetups, hackathons, professional communities, and more.Direct communication with all stakeholders and the ability to influence product development.Horizontal connections and absence of micromanagement, where all team members are accessible to each other for any questions, instead of a traditional hierarchy.Hubs in Kharkiv, Kyiv, Lviv, and Wrocław (Poland) or everything necessary for remote work.Up to 50% compensation for the cost of educational courses and conferences to support professional development.Free English language and business English courses.20 days off and 7 sick days to support your health and well-being.Legal and accounting support.Appreciation gifts for significant events and occasions.How to join\n",
      "TechstackPre-screening with a recruiter.Expert review of your resume.English check.Interview with our experts.About usTechstack is a technology product engineering company that sets an example for high development standards in the IT industry. We empower each team member to influence the development of the product, company, and processes. Learn more about TechstackWant to make an impact?You're in the right place. Apply for a position!CompanyTechstack WorldwideServicesCase StudiesBlogCareerJobsAbout usReviewsContact us© 2025 Techstack. All rights reserved.Terms of useCookies PolicyPrivacy Policy© 2025 Techstack. All rights reserved.Terms of useCookies PolicyPrivacy Policy\n"
     ]
    }
   ],
   "source": [
    "from langchain_community.document_loaders import WebBaseLoader\n",
    "\n",
    "loader = WebBaseLoader(\"https://career.tech-stack.com/front-end-engineer-v202\")\n",
    "page_data = loader.load().pop().page_content\n",
    "print(page_data)"
   ]
  },
  {
   "cell_type": "code",
   "execution_count": 51,
   "id": "85c89a57",
   "metadata": {},
   "outputs": [
    {
     "data": {
      "text/plain": [
       "str"
      ]
     },
     "execution_count": 51,
     "metadata": {},
     "output_type": "execute_result"
    }
   ],
   "source": [
    "from langchain_core.prompts import PromptTemplate\n",
    "\n",
    "prompt_extract = PromptTemplate.from_template(\n",
    "        \"\"\"\n",
    "        ### SCRAPED TEXT FROM WEBSITE:\n",
    "        {page_data}\n",
    "        ### INSTRUCTION:\n",
    "        The scraped text is from the career's page of a website.\n",
    "        Your job is to extract the job postings and return them in JSON format containing the \n",
    "        following keys: `role`, `experience`, `skills` and `description`.\n",
    "        Only return the valid JSON.\n",
    "        ### VALID JSON (NO PREAMBLE):    \n",
    "        \"\"\"\n",
    ")\n",
    "\n",
    "chain_extract = prompt_extract | llm \n",
    "res = chain_extract.invoke(input={'page_data':page_data})\n",
    "type(res.content)"
   ]
  },
  {
   "cell_type": "code",
   "execution_count": 74,
   "id": "5415fd54",
   "metadata": {},
   "outputs": [
    {
     "name": "stdout",
     "output_type": "stream",
     "text": [
      "{'role': 'Front-End Engineer', 'experience': '4+ years', 'skills': ['React.js', 'Next.js', 'TypeScript', 'Shadcn UI', 'Tailwind CSS', 'Git', 'CI/CD pipelines', 'Agile methodologies', 'Vercel', 'AWS S3/Lambda'], 'description': 'Design, develop, and maintain web user interfaces, ensuring high performance, responsiveness, and accessibility across modern browsers and devices.'}\n"
     ]
    }
   ],
   "source": [
    "from langchain_core.output_parsers import JsonOutputParser\n",
    "\n",
    "json_parser = JsonOutputParser()\n",
    "json_res = json_parser.parse(res.content)\n",
    "\n",
    "\n",
    "if isinstance(json_res, list):\n",
    "   \n",
    "    result_dict = json_res[0] if json_res else {}  \n",
    "elif isinstance(json_res, dict):\n",
    "    result_dict = json_res  \n",
    "else:\n",
    "    result_dict = {}  \n",
    "\n",
    "print(result_dict)\n"
   ]
  },
  {
   "cell_type": "code",
   "execution_count": 75,
   "id": "39961ed6",
   "metadata": {},
   "outputs": [
    {
     "data": {
      "text/plain": [
       "list"
      ]
     },
     "execution_count": 75,
     "metadata": {},
     "output_type": "execute_result"
    }
   ],
   "source": [
    "type(json_res)"
   ]
  },
  {
   "cell_type": "code",
   "execution_count": 76,
   "id": "4b6f1063-7e49-41cf-ad73-74e91fc7d8b2",
   "metadata": {},
   "outputs": [],
   "source": [
    "jobs = json_res"
   ]
  },
  {
   "cell_type": "code",
   "execution_count": 77,
   "id": "b0f7573b-7ea3-4e5a-9f76-68b456b91787",
   "metadata": {
    "scrolled": true
   },
   "outputs": [
    {
     "data": {
      "text/plain": [
       "[{'role': 'Front-End Engineer',\n",
       "  'experience': '4+ years',\n",
       "  'skills': ['React.js',\n",
       "   'Next.js',\n",
       "   'TypeScript',\n",
       "   'Shadcn UI',\n",
       "   'Tailwind CSS',\n",
       "   'Git',\n",
       "   'CI/CD pipelines',\n",
       "   'Agile methodologies',\n",
       "   'Vercel',\n",
       "   'AWS S3/Lambda'],\n",
       "  'description': 'Design, develop, and maintain web user interfaces, ensuring high performance, responsiveness, and accessibility across modern browsers and devices.'}]"
      ]
     },
     "execution_count": 77,
     "metadata": {},
     "output_type": "execute_result"
    }
   ],
   "source": [
    "jobs"
   ]
  },
  {
   "cell_type": "code",
   "execution_count": 94,
   "id": "d1d39562-e0bc-4c7d-b25c-d0b29a2df228",
   "metadata": {},
   "outputs": [
    {
     "name": "stdout",
     "output_type": "stream",
     "text": [
      "Loaded 20 rows from CSV\n"
     ]
    }
   ],
   "source": [
    "import csv\n",
    "import uuid\n",
    "import chromadb\n",
    "\n",
    "# Read CSV without pandas\n",
    "data = []\n",
    "with open(\"my_portfolio.csv\", \"r\") as file:\n",
    "    csv_reader = csv.DictReader(file)\n",
    "    for row in csv_reader:\n",
    "        data.append(row)\n",
    "\n",
    "print(f\"Loaded {len(data)} rows from CSV\")\n",
    "\n",
    "# Set up ChromaDB\n",
    "client = chromadb.PersistentClient('vectorstore')\n",
    "collection = client.get_or_create_collection(name=\"portfolio\")\n",
    "\n",
    "# Add documents to collection\n",
    "if not collection.count():\n",
    "    for i, row in enumerate(data):\n",
    "        try:\n",
    "            tech_stack = str(row.get(\"Techstack\", \"\"))\n",
    "            links = str(row.get(\"Links\", \"\"))\n",
    "            doc_id = str(uuid.uuid4())\n",
    "            \n",
    "            collection.add(\n",
    "                documents=[tech_stack],\n",
    "                metadatas=[{\"links\": links}],\n",
    "                ids=[doc_id]\n",
    "            )\n",
    "            \n",
    "            if (i+1) % 10 == 0:\n",
    "                print(f\"Added {i+1} documents\")\n",
    "                \n",
    "        except Exception as e:\n",
    "            print(f\"Error on row {i}: {e}\")\n",
    "            print(f\"Row data: {row}\")\n",
    "            break\n",
    "\n",
    "    print(\"Import complete\")"
   ]
  },
  {
   "cell_type": "code",
   "execution_count": 95,
   "id": "ef30a974-45a0-4301-8757-4e34943c23af",
   "metadata": {
    "scrolled": true
   },
   "outputs": [
    {
     "name": "stdout",
     "output_type": "stream",
     "text": [
      "{'ids': ['b5636768-b5cb-45d6-aec4-196ad0dd0699', 'ad63f740-04c9-4a6a-a288-66673f8fb970', '604856bc-052f-4222-b654-1d1825e725d1', '2aa94857-999f-4efe-b6e7-90b93e205b7a', 'bdd2afb9-2da6-42db-9eb8-c678888fdc15', '13bdb3fb-044b-46bf-b905-8ee738e38be5', 'b0b29f15-dc25-423f-ad1d-de09ac8c7ada', '94e250d6-af3e-4f7e-860c-78a68b292800', 'c84d6732-c3aa-498f-a920-ca9867922568', '071de4fb-de2f-4b5d-8490-2157a9f5780b', '395e96b9-74c6-4792-b414-2b12ebed28ab', '16bf6a60-8a62-40b6-9fcb-6adb00907a76', '603f609f-1184-4a5e-9aaf-f32de5c8500a', 'aea2d6db-ffd4-4faa-8b9a-c01e2dd76e55', '23e66c4f-b3fe-4081-84ea-54d99ed7413d', 'a170cf16-5e6a-4ef1-8610-fe55ad1c51c0', '522ca296-df65-47e2-88c2-96676b233814', '545fce20-9191-4e27-bd36-c07c61c83ab2', '63e77536-6ee2-4e8a-af17-f282b121fb98', '6fc0c069-fd26-4a2f-a9a4-ce77cf0214d5'], 'embeddings': None, 'documents': ['React, Node.js, MongoDB', 'Angular,.NET, SQL Server', 'Vue.js, Ruby on Rails, PostgreSQL', 'Python, Django, MySQL', 'Java, Spring Boot, Oracle', 'Flutter, Firebase, GraphQL', 'WordPress, PHP, MySQL', 'Magento, PHP, MySQL', 'React Native, Node.js, MongoDB', 'iOS, Swift, Core Data', 'Android, Java, Room Persistence', 'Kotlin, Android, Firebase', 'Android TV, Kotlin, Android NDK', 'iOS, Swift, ARKit', 'Cross-platform, Xamarin, Azure', 'Backend, Kotlin, Spring Boot', 'Frontend, TypeScript, Angular', 'Full-stack, JavaScript, Express.js', 'Machine Learning, Python, TensorFlow', 'DevOps, Jenkins, Docker'], 'uris': None, 'included': ['metadatas', 'documents'], 'data': None, 'metadatas': [{'links': 'https://example.com/react-portfolio'}, {'links': 'https://example.com/angular-portfolio'}, {'links': 'https://example.com/vue-portfolio'}, {'links': 'https://example.com/python-portfolio'}, {'links': 'https://example.com/java-portfolio'}, {'links': 'https://example.com/flutter-portfolio'}, {'links': 'https://example.com/wordpress-portfolio'}, {'links': 'https://example.com/magento-portfolio'}, {'links': 'https://example.com/react-native-portfolio'}, {'links': 'https://example.com/ios-portfolio'}, {'links': 'https://example.com/android-portfolio'}, {'links': 'https://example.com/kotlin-android-portfolio'}, {'links': 'https://example.com/android-tv-portfolio'}, {'links': 'https://example.com/ios-ar-portfolio'}, {'links': 'https://example.com/xamarin-portfolio'}, {'links': 'https://example.com/kotlin-backend-portfolio'}, {'links': 'https://example.com/typescript-frontend-portfolio'}, {'links': 'https://example.com/full-stack-js-portfolio'}, {'links': 'https://example.com/ml-python-portfolio'}, {'links': 'https://example.com/devops-portfolio'}]}\n"
     ]
    }
   ],
   "source": [
    "# Get all documents from the collection\n",
    "documents = collection.get()\n",
    "print(documents)"
   ]
  },
  {
   "cell_type": "code",
   "execution_count": 96,
   "id": "c38613b0-11e5-4656-94d6-ed79fac9f116",
   "metadata": {},
   "outputs": [],
   "source": [
    "skills = job[0].get('skills', [])"
   ]
  },
  {
   "cell_type": "code",
   "execution_count": 97,
   "id": "f90cbe3d-3329-4c83-872f-0141275cb624",
   "metadata": {},
   "outputs": [],
   "source": [
    "links = query_results.get('metadatas', [])"
   ]
  },
  {
   "cell_type": "code",
   "execution_count": 98,
   "id": "56eb4c3f-1887-438d-914c-6c2d80cf4de4",
   "metadata": {},
   "outputs": [
    {
     "data": {
      "text/plain": [
       "{'ids': [['b5636768-b5cb-45d6-aec4-196ad0dd0699',\n",
       "   'c84d6732-c3aa-498f-a920-ca9867922568'],\n",
       "  ['545fce20-9191-4e27-bd36-c07c61c83ab2',\n",
       "   '604856bc-052f-4222-b654-1d1825e725d1'],\n",
       "  ['522ca296-df65-47e2-88c2-96676b233814',\n",
       "   '545fce20-9191-4e27-bd36-c07c61c83ab2'],\n",
       "  ['16bf6a60-8a62-40b6-9fcb-6adb00907a76',\n",
       "   '13bdb3fb-044b-46bf-b905-8ee738e38be5'],\n",
       "  ['a170cf16-5e6a-4ef1-8610-fe55ad1c51c0',\n",
       "   '522ca296-df65-47e2-88c2-96676b233814'],\n",
       "  ['6fc0c069-fd26-4a2f-a9a4-ce77cf0214d5',\n",
       "   '16bf6a60-8a62-40b6-9fcb-6adb00907a76'],\n",
       "  ['6fc0c069-fd26-4a2f-a9a4-ce77cf0214d5',\n",
       "   '94e250d6-af3e-4f7e-860c-78a68b292800'],\n",
       "  ['a170cf16-5e6a-4ef1-8610-fe55ad1c51c0',\n",
       "   '6fc0c069-fd26-4a2f-a9a4-ce77cf0214d5'],\n",
       "  ['a170cf16-5e6a-4ef1-8610-fe55ad1c51c0',\n",
       "   '604856bc-052f-4222-b654-1d1825e725d1'],\n",
       "  ['a170cf16-5e6a-4ef1-8610-fe55ad1c51c0',\n",
       "   '23e66c4f-b3fe-4081-84ea-54d99ed7413d']],\n",
       " 'embeddings': None,\n",
       " 'documents': [['React, Node.js, MongoDB', 'React Native, Node.js, MongoDB'],\n",
       "  ['Full-stack, JavaScript, Express.js', 'Vue.js, Ruby on Rails, PostgreSQL'],\n",
       "  ['Frontend, TypeScript, Angular', 'Full-stack, JavaScript, Express.js'],\n",
       "  ['Kotlin, Android, Firebase', 'Flutter, Firebase, GraphQL'],\n",
       "  ['Backend, Kotlin, Spring Boot', 'Frontend, TypeScript, Angular'],\n",
       "  ['DevOps, Jenkins, Docker', 'Kotlin, Android, Firebase'],\n",
       "  ['DevOps, Jenkins, Docker', 'Magento, PHP, MySQL'],\n",
       "  ['Backend, Kotlin, Spring Boot', 'DevOps, Jenkins, Docker'],\n",
       "  ['Backend, Kotlin, Spring Boot', 'Vue.js, Ruby on Rails, PostgreSQL'],\n",
       "  ['Backend, Kotlin, Spring Boot', 'Cross-platform, Xamarin, Azure']],\n",
       " 'uris': None,\n",
       " 'included': ['metadatas', 'documents', 'distances'],\n",
       " 'data': None,\n",
       " 'metadatas': [[{'links': 'https://example.com/react-portfolio'},\n",
       "   {'links': 'https://example.com/react-native-portfolio'}],\n",
       "  [{'links': 'https://example.com/full-stack-js-portfolio'},\n",
       "   {'links': 'https://example.com/vue-portfolio'}],\n",
       "  [{'links': 'https://example.com/typescript-frontend-portfolio'},\n",
       "   {'links': 'https://example.com/full-stack-js-portfolio'}],\n",
       "  [{'links': 'https://example.com/kotlin-android-portfolio'},\n",
       "   {'links': 'https://example.com/flutter-portfolio'}],\n",
       "  [{'links': 'https://example.com/kotlin-backend-portfolio'},\n",
       "   {'links': 'https://example.com/typescript-frontend-portfolio'}],\n",
       "  [{'links': 'https://example.com/devops-portfolio'},\n",
       "   {'links': 'https://example.com/kotlin-android-portfolio'}],\n",
       "  [{'links': 'https://example.com/devops-portfolio'},\n",
       "   {'links': 'https://example.com/magento-portfolio'}],\n",
       "  [{'links': 'https://example.com/kotlin-backend-portfolio'},\n",
       "   {'links': 'https://example.com/devops-portfolio'}],\n",
       "  [{'links': 'https://example.com/kotlin-backend-portfolio'},\n",
       "   {'links': 'https://example.com/vue-portfolio'}],\n",
       "  [{'links': 'https://example.com/kotlin-backend-portfolio'},\n",
       "   {'links': 'https://example.com/xamarin-portfolio'}]],\n",
       " 'distances': [[0.7244817018508911, 0.8495531678199768],\n",
       "  [1.3455166816711426, 1.5009115934371948],\n",
       "  [0.6451278328895569, 1.1915125846862793],\n",
       "  [1.5479679107666016, 1.6069958209991455],\n",
       "  [1.798330545425415, 1.8167526721954346],\n",
       "  [1.3293590545654297, 1.6837658882141113],\n",
       "  [1.3632445335388184, 1.7417025566101074],\n",
       "  [1.4833927154541016, 1.545080304145813],\n",
       "  [1.6260793209075928, 1.6312988996505737],\n",
       "  [1.4640871286392212, 1.5017306804656982]]}"
      ]
     },
     "execution_count": 98,
     "metadata": {},
     "output_type": "execute_result"
    }
   ],
   "source": [
    "query_results = collection.query(query_texts=skills, n_results=2)\n",
    "query_results"
   ]
  },
  {
   "cell_type": "code",
   "execution_count": 86,
   "id": "b002261b-ed01-4a49-ace7-21b9c850a214",
   "metadata": {},
   "outputs": [
    {
     "name": "stdout",
     "output_type": "stream",
     "text": [
      "Query result links: [[{'links': 'https://example.com/react-portfolio'}, {'links': 'https://example.com/react-native-portfolio'}], [{'links': 'https://example.com/full-stack-js-portfolio'}, {'links': 'https://example.com/vue-portfolio'}], [{'links': 'https://example.com/typescript-frontend-portfolio'}, {'links': 'https://example.com/full-stack-js-portfolio'}], [{'links': 'https://example.com/kotlin-android-portfolio'}, {'links': 'https://example.com/flutter-portfolio'}], [{'links': 'https://example.com/kotlin-backend-portfolio'}, {'links': 'https://example.com/typescript-frontend-portfolio'}], [{'links': 'https://example.com/devops-portfolio'}, {'links': 'https://example.com/kotlin-android-portfolio'}], [{'links': 'https://example.com/devops-portfolio'}, {'links': 'https://example.com/magento-portfolio'}], [{'links': 'https://example.com/kotlin-backend-portfolio'}, {'links': 'https://example.com/devops-portfolio'}], [{'links': 'https://example.com/kotlin-backend-portfolio'}, {'links': 'https://example.com/vue-portfolio'}], [{'links': 'https://example.com/kotlin-backend-portfolio'}, {'links': 'https://example.com/xamarin-portfolio'}]]\n"
     ]
    }
   ],
   "source": [
    "print(\"Query result links:\", links)"
   ]
  },
  {
   "cell_type": "code",
   "execution_count": 87,
   "id": "15262795-0d81-4598-bbdf-0f7e8b4cd9e9",
   "metadata": {},
   "outputs": [
    {
     "name": "stdout",
     "output_type": "stream",
     "text": [
      "Unique Links: ['https://example.com/magento-portfolio', 'https://example.com/typescript-frontend-portfolio', 'https://example.com/flutter-portfolio', 'https://example.com/vue-portfolio', 'https://example.com/xamarin-portfolio', 'https://example.com/react-native-portfolio', 'https://example.com/kotlin-android-portfolio', 'https://example.com/full-stack-js-portfolio', 'https://example.com/kotlin-backend-portfolio', 'https://example.com/devops-portfolio', 'https://example.com/react-portfolio']\n"
     ]
    }
   ],
   "source": [
    "flattened_links = set()  # Using a set to eliminate duplicates\n",
    "for link_group in links:\n",
    "    for link_item in link_group:\n",
    "        flattened_links.add(link_item.get('links'))\n",
    "\n",
    "# Convert set to list and print\n",
    "flattened_links_list = list(flattened_links)\n",
    "print(\"Unique Links:\", flattened_links_list)"
   ]
  },
  {
   "cell_type": "code",
   "execution_count": 90,
   "id": "41a4359d-29d2-4108-b06b-81eae33ad2e6",
   "metadata": {},
   "outputs": [
    {
     "data": {
      "text/plain": [
       "[{'role': 'Front-End Engineer',\n",
       "  'experience': '4+ years',\n",
       "  'skills': ['React.js',\n",
       "   'Next.js',\n",
       "   'TypeScript',\n",
       "   'Shadcn UI',\n",
       "   'Tailwind CSS',\n",
       "   'Git',\n",
       "   'CI/CD pipelines',\n",
       "   'Agile methodologies',\n",
       "   'Vercel',\n",
       "   'AWS S3/Lambda'],\n",
       "  'description': 'Design, develop, and maintain web user interfaces, ensuring high performance, responsiveness, and accessibility across modern browsers and devices.'}]"
      ]
     },
     "execution_count": 90,
     "metadata": {},
     "output_type": "execute_result"
    }
   ],
   "source": [
    "job"
   ]
  },
  {
   "cell_type": "code",
   "execution_count": 91,
   "id": "63cdc74d-e911-429e-b22a-b0ca0de81a3f",
   "metadata": {},
   "outputs": [
    {
     "data": {
      "text/plain": [
       "['React.js',\n",
       " 'Next.js',\n",
       " 'TypeScript',\n",
       " 'Shadcn UI',\n",
       " 'Tailwind CSS',\n",
       " 'Git',\n",
       " 'CI/CD pipelines',\n",
       " 'Agile methodologies',\n",
       " 'Vercel',\n",
       " 'AWS S3/Lambda']"
      ]
     },
     "execution_count": 91,
     "metadata": {},
     "output_type": "execute_result"
    }
   ],
   "source": [
    "jobs[0].get('skills', [])"
   ]
  },
  {
   "cell_type": "code",
   "execution_count": 99,
   "id": "64a97dd2",
   "metadata": {},
   "outputs": [
    {
     "name": "stdout",
     "output_type": "stream",
     "text": [
      "Here is the cold email:\n",
      "\n",
      "Subject: Expert Front-End Engineer for Your Web Development Needs\n",
      "\n",
      "Dear [Client],\n",
      "\n",
      "I came across your job posting for a Front-End Engineer and was impressed by the requirements. At AtliQ, we specialize in providing top-notch AI and software consulting services that cater to the unique needs of our clients. Our team of experts has a proven track record of delivering scalable, efficient, and cost-effective solutions.\n",
      "\n",
      "Our Front-End Engineers possess the exact skills you're looking for, including React.js, Next.js, TypeScript, Shadcn UI, Tailwind CSS, Git, CI/CD pipelines, Agile methodologies, Vercel, and AWS S3/Lambda. We understand the importance of designing, developing, and maintaining web user interfaces that ensure high performance, responsiveness, and accessibility across modern browsers and devices.\n",
      "\n",
      "Our portfolio showcases our expertise in Front-End development, including:\n",
      "\n",
      "* https://example.com/react-portfolio\n",
      "* https://example.com/typescript-frontend-portfolio\n",
      "* https://example.com/full-stack-js-portfolio\n",
      "\n",
      "We'd be delighted to discuss how our team can help you achieve your web development goals. Our collaborative approach ensures that we understand your requirements and deliver tailored solutions that meet your needs.\n",
      "\n",
      "If you're interested in learning more about our capabilities and how we can support your project, I'd be happy to set up a call.\n",
      "\n",
      "Best regards,\n",
      "\n",
      "Mohan\n",
      "Business Development Executive\n",
      "AtliQ\n"
     ]
    }
   ],
   "source": [
    "prompt_email = PromptTemplate.from_template(\n",
    "        \"\"\"\n",
    "        ### JOB DESCRIPTION:\n",
    "        {job_description}\n",
    "        \n",
    "        ### INSTRUCTION:\n",
    "        You are Mohan, a business development executive at AtliQ. AtliQ is an AI & Software Consulting company dedicated to facilitating\n",
    "        the seamless integration of business processes through automated tools. \n",
    "        Over our experience, we have empowered numerous enterprises with tailored solutions, fostering scalability, \n",
    "        process optimization, cost reduction, and heightened overall efficiency. \n",
    "        Your job is to write a cold email to the client regarding the job mentioned above describing the capability of AtliQ \n",
    "        in fulfilling their needs.\n",
    "        Also add the most relevant ones from the following links to showcase Atliq's portfolio: {link_list}\n",
    "        Remember you are Mohan, BDE at AtliQ. \n",
    "        Do not provide a preamble.\n",
    "        ### EMAIL (NO PREAMBLE):\n",
    "        \n",
    "        \"\"\"\n",
    "        )\n",
    "\n",
    "chain_email = prompt_email | llm\n",
    "res = chain_email.invoke({\"job_description\": str(job), \"link_list\": links})\n",
    "print(res.content)"
   ]
  },
  {
   "cell_type": "code",
   "execution_count": null,
   "id": "2caf3766-7db7-430c-acc2-81dc375effb5",
   "metadata": {},
   "outputs": [],
   "source": []
  }
 ],
 "metadata": {
  "kernelspec": {
   "display_name": "Python (myenv)",
   "language": "python",
   "name": "myenv"
  },
  "language_info": {
   "codemirror_mode": {
    "name": "ipython",
    "version": 3
   },
   "file_extension": ".py",
   "mimetype": "text/x-python",
   "name": "python",
   "nbconvert_exporter": "python",
   "pygments_lexer": "ipython3",
   "version": "3.10.16"
  }
 },
 "nbformat": 4,
 "nbformat_minor": 5
}
